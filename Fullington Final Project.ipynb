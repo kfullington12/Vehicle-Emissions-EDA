{
 "cells": [
  {
   "cell_type": "code",
   "execution_count": 1,
   "id": "1db8a501",
   "metadata": {},
   "outputs": [],
   "source": [
    "from os.path import basename, exists\n",
    "\n",
    "\n",
    "def download(url):\n",
    "    filename = basename(url)\n",
    "    if not exists(filename):\n",
    "        from urllib.request import urlretrieve\n",
    "\n",
    "        local, _ = urlretrieve(url, filename)\n",
    "        print(\"Downloaded \" + local)\n",
    "\n",
    "\n",
    "download(\"https://github.com/AllenDowney/ThinkStats2/raw/master/code/thinkstats2.py\")\n",
    "download(\"https://github.com/AllenDowney/ThinkStats2/raw/master/code/thinkplot.py\")"
   ]
  },
  {
   "cell_type": "code",
   "execution_count": 2,
   "id": "1542786f",
   "metadata": {},
   "outputs": [],
   "source": [
    "import thinkstats2\n",
    "import pandas as pd\n",
    "import thinkplot\n",
    "import numpy as np"
   ]
  },
  {
   "cell_type": "markdown",
   "id": "96551a51",
   "metadata": {},
   "source": [
    "### Variables used in vehicle data set:\n",
    "\n",
    "-\tid (vehicle record id)\n",
    "-\tcity08U (unrounded city MPG for fuelType1)\n",
    "-\tcityA08U (unrounded city MPG for fuleType2)\n",
    "-\tfuelType1 (fuel type 1. For single fuel vehicles, this will be the only fuel. For dual fuel vehicles, this will be the conventional fuel)\n",
    "-\tfuelType2 (fuel type 2. For dual fuel vehicles, this will be the alternative fuel (e.g. E85, Electric, etc) for single fuel vehicles this field is not used)\n",
    "-\tyear (model year)\n",
    "-\thighway08U (unrounded highway MPG for fuelType1)\n",
    "-\thighwayA08U (unrounded highway MPG for fuelType2)\n",
    "-\tghgScore (EPA GHG score, -1 = Not available)\n",
    "-\tghgScoreA (EPA GHG score for dual fuel vehicle running on the alternative fuel, -1 = Not available)\n"
   ]
  },
  {
   "cell_type": "markdown",
   "id": "47059af9",
   "metadata": {},
   "source": [
    "### Variables used in emissions data set:\n",
    "\n",
    "-\tid (vehicle record id, links emission data to the vehicle record)\n",
    "-\tscore (EPA 1-10 smog rating for fuelType1)\n",
    "-\tscoreAlt (EPA 1-10 smog rating for fuelType2)"
   ]
  },
  {
   "cell_type": "code",
   "execution_count": 4,
   "id": "b3cf7312",
   "metadata": {},
   "outputs": [],
   "source": [
    "# Read data sets and merge them into one data frame\n",
    "vehicles_df = pd.read_excel(r'C:\\Users\\runek\\OneDrive\\Documents\\GitHub\\ThinkStats2\\Final Project\\vehicles.xlsx')\n",
    "emissions_df = pd.read_excel(r'C:\\Users\\runek\\OneDrive\\Documents\\GitHub\\ThinkStats2\\Final Project\\emissions.xlsx')\n",
    "vehicle_emissions_df = pd.merge(vehicles_df, emissions_df, on=\"id\")"
   ]
  },
  {
   "cell_type": "markdown",
   "id": "9a04f140",
   "metadata": {},
   "source": [
    "## Analyzing the Year Variable"
   ]
  },
  {
   "cell_type": "code",
   "execution_count": 5,
   "id": "e1fe4bf8",
   "metadata": {},
   "outputs": [
    {
     "data": {
      "image/png": "[encoded data removed]",
      "text/plain": [
       "<Figure size 432x288 with 1 Axes>"
      ]
     },
     "metadata": {
      "needs_background": "light"
     },
     "output_type": "display_data"
    },
    {
     "data": {
      "text/plain": [
       "<Figure size 576x432 with 0 Axes>"
      ]
     },
     "metadata": {},
     "output_type": "display_data"
    }
   ],
   "source": [
    "# Year histogram\n",
    "\n",
    "year_hist = thinkstats2.Hist(vehicle_emissions_df.year, label = 'Model Year')\n",
    "thinkplot.Hist(year_hist)\n",
    "thinkplot.Show(xlable = 'Model Year', ylabel = 'Frequency')"
   ]
  },
  {
   "cell_type": "code",
   "execution_count": 6,
   "id": "bc74fc00",
   "metadata": {},
   "outputs": [
    {
     "name": "stdout",
     "output_type": "stream",
     "text": [
      "2004 2015\n",
      "2005 1963\n",
      "2006 2071\n",
      "2007 2117\n",
      "2008 2290\n",
      "2009 1943\n",
      "2010 2061\n",
      "2011 2212\n",
      "2012 2264\n",
      "2013 2533\n"
     ]
    }
   ],
   "source": [
    "# Check for outliers by showing smallest ten years\n",
    "for year, freq in year_hist.Smallest(10):\n",
    "    print(year, freq)"
   ]
  },
  {
   "cell_type": "code",
   "execution_count": 7,
   "id": "a107fa89",
   "metadata": {},
   "outputs": [
    {
     "name": "stdout",
     "output_type": "stream",
     "text": [
      "2022 2641\n",
      "2021 2632\n",
      "2020 2577\n",
      "2019 2689\n",
      "2018 2724\n",
      "2017 2592\n",
      "2016 2586\n",
      "2015 2649\n",
      "2014 2602\n",
      "2013 2533\n"
     ]
    }
   ],
   "source": [
    "# Check for outliers by showing largest ten years\n",
    "for year, freq in year_hist.Largest(10):\n",
    "    print(year, freq)"
   ]
  },
  {
   "cell_type": "code",
   "execution_count": 8,
   "id": "fa2a7874",
   "metadata": {},
   "outputs": [
    {
     "data": {
      "text/plain": [
       "(2013.5649343460066, 29.26514238330448, 5.409726645894826)"
      ]
     },
     "execution_count": 8,
     "metadata": {},
     "output_type": "execute_result"
    }
   ],
   "source": [
    "# Check year mean, variance, and standard deviation\n",
    "\n",
    "mean = vehicle_emissions_df.year.mean()\n",
    "var = vehicle_emissions_df.year.var()\n",
    "std = vehicle_emissions_df.year.std()\n",
    "\n",
    "mean, var, std"
   ]
  },
  {
   "cell_type": "markdown",
   "id": "5ccd183b",
   "metadata": {},
   "source": [
    "## Analyzing the EPA and GHG Score Variables"
   ]
  },
  {
   "cell_type": "code",
   "execution_count": 9,
   "id": "80afe6cb",
   "metadata": {},
   "outputs": [
    {
     "data": {
      "image/png": "[encoded data removed]",
      "text/plain": [
       "<Figure size 432x288 with 1 Axes>"
      ]
     },
     "metadata": {
      "needs_background": "light"
     },
     "output_type": "display_data"
    },
    {
     "data": {
      "text/plain": [
       "<Figure size 576x432 with 0 Axes>"
      ]
     },
     "metadata": {},
     "output_type": "display_data"
    }
   ],
   "source": [
    "# GHG Score (fuel type 1) Histogram\n",
    "ghgScore_hist = thinkstats2.Hist(vehicle_emissions_df.ghgScore, label = 'GHG Score for Fuel Type 1')\n",
    "thinkplot.Hist(ghgScore_hist)\n",
    "thinkplot.Show(xlable = 'GHG Score', ylabel = 'Frequency')"
   ]
  },
  {
   "cell_type": "markdown",
   "id": "0a25d19b",
   "metadata": {},
   "source": [
    "Notice that there are a LOT of -1 scores. According to the data set documentation, a -1 indicates that there was not data available for this attirbute. They will need to be removed. The same can be said for the other GHG scores and EPA scores. Histograms for those will be left out for brevity's sake."
   ]
  },
  {
   "cell_type": "code",
   "execution_count": 14,
   "id": "db9840e9",
   "metadata": {},
   "outputs": [
    {
     "name": "stdout",
     "output_type": "stream",
     "text": [
      "10 1171\n",
      "9 432\n",
      "8 1347\n",
      "7 2863\n",
      "6 3569\n",
      "5 6603\n",
      "4 5087\n",
      "3 3336\n",
      "2 1313\n",
      "1 504\n"
     ]
    }
   ],
   "source": [
    "# Find outliers by searching for smallest ten and largest ten scores\n",
    "for score, freq in ghgScore_hist.Largest(10):\n",
    "    print(score, freq)"
   ]
  },
  {
   "cell_type": "code",
   "execution_count": 15,
   "id": "0f5f827c",
   "metadata": {},
   "outputs": [
    {
     "name": "stdout",
     "output_type": "stream",
     "text": [
      "-1 18936\n",
      "1 504\n",
      "2 1313\n",
      "3 3336\n",
      "4 5087\n",
      "5 6603\n",
      "6 3569\n",
      "7 2863\n",
      "8 1347\n",
      "9 432\n"
     ]
    }
   ],
   "source": [
    "for score, freq in ghgScore_hist.Smallest(10):\n",
    "    print(score, freq)"
   ]
  },
  {
   "cell_type": "markdown",
   "id": "cdfdb290",
   "metadata": {},
   "source": [
    "Notice that we have a lot of -1 scores in the GHG Score and EPA Smog Score. -1 denotes that data was not available for those records. To perform good analysis, these will need to be removed."
   ]
  },
  {
   "cell_type": "code",
   "execution_count": 16,
   "id": "9e50eb8f",
   "metadata": {},
   "outputs": [],
   "source": [
    "# Let's remove all the -1 scores for the environmental ratings\n",
    "def Clean_Scores(vehicle_emissions_df):\n",
    "    na_val = [-1]\n",
    "    vehicle_emissions_df.ghgScore.replace(na_val, np.nan, inplace = True)\n",
    "    vehicle_emissions_df.ghgScoreA.replace(na_val, np.nan, inplace = True)\n",
    "    vehicle_emissions_df.score.replace(na_val, np.nan, inplace = True)\n",
    "    vehicle_emissions_df.scoreAlt.replace(na_val, np.nan, inplace = True)"
   ]
  },
  {
   "cell_type": "code",
   "execution_count": 18,
   "id": "0c014b89",
   "metadata": {},
   "outputs": [],
   "source": [
    "Clean_Scores(vehicle_emissions_df)"
   ]
  },
  {
   "cell_type": "code",
   "execution_count": 19,
   "id": "b41a5cb1",
   "metadata": {},
   "outputs": [
    {
     "data": {
      "image/png": "[encoded data removed]",
      "text/plain": [
       "<Figure size 432x288 with 1 Axes>"
      ]
     },
     "metadata": {
      "needs_background": "light"
     },
     "output_type": "display_data"
    },
    {
     "data": {
      "text/plain": [
       "<Figure size 576x432 with 0 Axes>"
      ]
     },
     "metadata": {},
     "output_type": "display_data"
    }
   ],
   "source": [
    "ghgScore_hist_cleaned = thinkstats2.Hist(vehicle_emissions_df.ghgScore, label = 'GHG Score for Fuel Type 1')\n",
    "thinkplot.Hist(ghgScore_hist_cleaned)\n",
    "thinkplot.Show(xlable = 'GHG Score', ylabel = 'Frequency')"
   ]
  },
  {
   "cell_type": "code",
   "execution_count": 20,
   "id": "54b52330",
   "metadata": {},
   "outputs": [
    {
     "data": {
      "image/png": "[encoded data removed]",
      "text/plain": [
       "<Figure size 432x288 with 1 Axes>"
      ]
     },
     "metadata": {
      "needs_background": "light"
     },
     "output_type": "display_data"
    },
    {
     "data": {
      "text/plain": [
       "<Figure size 576x432 with 0 Axes>"
      ]
     },
     "metadata": {},
     "output_type": "display_data"
    }
   ],
   "source": [
    "ghgScoreA_hist_cleaned = thinkstats2.Hist(vehicle_emissions_df.ghgScoreA, label = 'GHG Score for Fuel Type 2')\n",
    "thinkplot.Hist(ghgScoreA_hist_cleaned)\n",
    "thinkplot.Show(xlabel = 'GHG Score', ylable = 'Frequency')"
   ]
  },
  {
   "cell_type": "code",
   "execution_count": 22,
   "id": "81884db2",
   "metadata": {},
   "outputs": [
    {
     "data": {
      "image/png": "[encoded data removed]",
      "text/plain": [
       "<Figure size 432x288 with 1 Axes>"
      ]
     },
     "metadata": {
      "needs_background": "light"
     },
     "output_type": "display_data"
    },
    {
     "data": {
      "text/plain": [
       "<Figure size 576x432 with 0 Axes>"
      ]
     },
     "metadata": {},
     "output_type": "display_data"
    }
   ],
   "source": [
    "EPA_score_hist_cleaned_type1 = thinkstats2.Hist(vehicle_emissions_df.score, label = 'EPA Score for Fuel Type 1')\n",
    "thinkplot.Hist(EPA_score_hist_cleaned_type1)\n",
    "thinkplot.Show(xlabel = 'GHG Score', ylable = 'Frequency')"
   ]
  },
  {
   "cell_type": "code",
   "execution_count": 23,
   "id": "9c8240c8",
   "metadata": {},
   "outputs": [
    {
     "data": {
      "image/png": "[encoded data removed]",
      "text/plain": [
       "<Figure size 432x288 with 1 Axes>"
      ]
     },
     "metadata": {
      "needs_background": "light"
     },
     "output_type": "display_data"
    },
    {
     "data": {
      "text/plain": [
       "<Figure size 576x432 with 0 Axes>"
      ]
     },
     "metadata": {},
     "output_type": "display_data"
    }
   ],
   "source": [
    "EPA_score_hist_cleaned_type2 = thinkstats2.Hist(vehicle_emissions_df.scoreAlt, label = 'EPA Smog Rating for Fuel Type 2')\n",
    "thinkplot.Hist(EPA_score_hist_cleaned_type2)\n",
    "thinkplot.Show(xlabel = 'EPA Smog Score', ylable = 'Frequency')"
   ]
  },
  {
   "cell_type": "markdown",
   "id": "b30431a7",
   "metadata": {},
   "source": [
    "## Analyzing the Fuel Type Variables"
   ]
  },
  {
   "cell_type": "code",
   "execution_count": 25,
   "id": "7fcedeaf",
   "metadata": {},
   "outputs": [
    {
     "data": {
      "image/png": "[encoded data removed]",
      "text/plain": [
       "<Figure size 432x288 with 1 Axes>"
      ]
     },
     "metadata": {
      "needs_background": "light"
     },
     "output_type": "display_data"
    },
    {
     "data": {
      "text/plain": [
       "<Figure size 576x432 with 0 Axes>"
      ]
     },
     "metadata": {},
     "output_type": "display_data"
    }
   ],
   "source": [
    "# Let's make a histogram for fuel type 1\n",
    "fuelType1_hist = thinkstats2.Hist(vehicle_emissions_df.fuelType1, label = 'Fuel Type 1')\n",
    "thinkplot.Hist(fuelType1_hist)\n",
    "thinkplot.Show(xlable = 'Fuel Type', ylabel = 'Frequency')"
   ]
  },
  {
   "cell_type": "code",
   "execution_count": 26,
   "id": "ad436485",
   "metadata": {},
   "outputs": [
    {
     "data": {
      "image/png": "[encoded data removed]",
      "text/plain": [
       "<Figure size 432x288 with 1 Axes>"
      ]
     },
     "metadata": {
      "needs_background": "light"
     },
     "output_type": "display_data"
    },
    {
     "data": {
      "text/plain": [
       "<Figure size 576x432 with 0 Axes>"
      ]
     },
     "metadata": {},
     "output_type": "display_data"
    }
   ],
   "source": [
    "# Histogram for fuel type 2\n",
    "fuelType2_hist = thinkstats2.Hist(vehicle_emissions_df.fuelType2, label = 'Fuel Type 2')\n",
    "thinkplot.Hist(fuelType2_hist)\n",
    "thinkplot.Show(xlable = 'Fuel Type', ylabel = 'Frequency')"
   ]
  },
  {
   "cell_type": "markdown",
   "id": "83a64aaf",
   "metadata": {},
   "source": [
    "## Other Variables"
   ]
  },
  {
   "cell_type": "markdown",
   "id": "89779a32",
   "metadata": {},
   "source": [
    "A histogram won't work for the following:\n",
    "\n",
    "- city08U (unrounded city MPG for fuelType1)\n",
    "- cityA08U (unrounded city MPG for fuleType2)\n",
    "- highway08U (unrounded highway MPG for fuelType1)\n",
    "- highwayA08U (unrounded highway MPG for fuelType2)\n",
    "\n",
    "This is because they are continuous variables, so each exact number would typically occur only once, or a very negligible number of times"
   ]
  },
  {
   "cell_type": "markdown",
   "id": "3722ca54",
   "metadata": {},
   "source": [
    "### Miles per Gallon (hwy and city)"
   ]
  },
  {
   "cell_type": "markdown",
   "id": "1ce8d59a",
   "metadata": {},
   "source": [
    "Let's get some descriptive statistics for MPG"
   ]
  },
  {
   "cell_type": "code",
   "execution_count": 33,
   "id": "ff70919a",
   "metadata": {},
   "outputs": [
    {
     "data": {
      "text/plain": [
       "(15.30374946967492, 248.57320893910565, 15.766204645985844)"
      ]
     },
     "execution_count": 33,
     "metadata": {},
     "output_type": "execute_result"
    }
   ],
   "source": [
    "# Mean, variance, and standard deviation for unrounded city miles per gallon for fuel type 1\n",
    "city_1_mean = vehicle_emissions_df.city08U.mean()\n",
    "city_1_var = vehicle_emissions_df.city08U.var()\n",
    "city_1_std = vehicle_emissions_df.city08U.std()\n",
    "\n",
    "city_1_mean, city_1_var, city_1_std"
   ]
  },
  {
   "cell_type": "code",
   "execution_count": 34,
   "id": "71932033",
   "metadata": {},
   "outputs": [
    {
     "data": {
      "text/plain": [
       "(1.403250908970132, 82.63000561302731, 9.09010481859408)"
      ]
     },
     "execution_count": 34,
     "metadata": {},
     "output_type": "execute_result"
    }
   ],
   "source": [
    "# Mean, variance, and standard deviation for unrounded city miles per gallon for fuel type 2\n",
    "city_2_mean = vehicle_emissions_df.cityA08U.mean()\n",
    "city_2_var = vehicle_emissions_df.cityA08U.var()\n",
    "city_2_std = vehicle_emissions_df.cityA08U.std()\n",
    "\n",
    "city_2_mean, city_2_var, city_2_std"
   ]
  },
  {
   "cell_type": "code",
   "execution_count": 35,
   "id": "64a821de",
   "metadata": {},
   "outputs": [
    {
     "data": {
      "text/plain": [
       "(19.77436434534246, 279.05853389624383, 16.705045162951336)"
      ]
     },
     "execution_count": 35,
     "metadata": {},
     "output_type": "execute_result"
    }
   ],
   "source": [
    "# Mean, variance, and standard deviation for unrounded highway miles per gallon for fuel type 1\n",
    "hwy_1_mean = vehicle_emissions_df.highway08U.mean()\n",
    "hwy_1_var = vehicle_emissions_df.highway08U.var()\n",
    "hwy_1_std = vehicle_emissions_df.highway08U.std()\n",
    "\n",
    "hwy_1_mean, hwy_1_var, hwy_1_std"
   ]
  },
  {
   "cell_type": "code",
   "execution_count": 36,
   "id": "12448484",
   "metadata": {},
   "outputs": [
    {
     "data": {
      "text/plain": [
       "(1.5817502956090406, 80.66787633447893, 8.981529732427486)"
      ]
     },
     "execution_count": 36,
     "metadata": {},
     "output_type": "execute_result"
    }
   ],
   "source": [
    "# Mean, variance, and standard deviation for unrounded highway miles per gallon for fuel type 2\n",
    "hwy_2_mean = vehicle_emissions_df.highwayA08U.mean()\n",
    "hwy_2_var = vehicle_emissions_df.highwayA08U.var()\n",
    "hwy_2_std = vehicle_emissions_df.highwayA08U.std()\n",
    "\n",
    "hwy_2_mean, hwy_2_var, hwy_2_std"
   ]
  },
  {
   "cell_type": "code",
   "execution_count": 38,
   "id": "ed187906",
   "metadata": {},
   "outputs": [
    {
     "name": "stdout",
     "output_type": "stream",
     "text": [
      "City MPG Fuel Type 1:  15.30374946967492\n",
      "City MPG Fuel Type 2:  1.403250908970132\n",
      "Hwy MPG Fuel Type 1:  19.77436434534246\n",
      "Hwy MPG Fuel Type 2:  1.5817502956090406\n"
     ]
    }
   ],
   "source": [
    "# Let's get the means side by side:\n",
    "print('City MPG Fuel Type 1: ', city_1_mean)\n",
    "print('City MPG Fuel Type 2: ', city_2_mean)\n",
    "print('Hwy MPG Fuel Type 1: ', hwy_1_mean)\n",
    "print('Hwy MPG Fuel Type 2: ', hwy_2_mean)"
   ]
  },
  {
   "cell_type": "markdown",
   "id": "90dd247d",
   "metadata": {},
   "source": [
    "## PMFs"
   ]
  },
  {
   "cell_type": "markdown",
   "id": "74cb9f36",
   "metadata": {},
   "source": [
    "Compare two scenarios using a PMF:"
   ]
  },
  {
   "cell_type": "code",
   "execution_count": 40,
   "id": "532f659f",
   "metadata": {},
   "outputs": [],
   "source": [
    "# Create two dataframes for EPA Smog Scores divided by score\n",
    "highs = vehicle_emissions_df[vehicle_emissions_df.score >= 7]\n",
    "lows = vehicle_emissions_df[vehicle_emissions_df.score <= 3]"
   ]
  },
  {
   "cell_type": "code",
   "execution_count": 41,
   "id": "4645b41b",
   "metadata": {},
   "outputs": [],
   "source": [
    "# Create histograms for GHG Scores for the data frames that are divided by EPA score\n",
    "highs_ghgScore_hist = thinkstats2.Hist(highs.ghgScore, label = 'GHG Score for EPA 7+')\n",
    "lows_ghgScore_hist = thinkstats2.Hist(lows.ghgScore, label = 'GHG Score for EPA 3-')"
   ]
  },
  {
   "cell_type": "code",
   "execution_count": 42,
   "id": "2cb4e3a7",
   "metadata": {},
   "outputs": [
    {
     "data": {
      "image/png": "[encoded data removed]",
      "text/plain": [
       "<Figure size 432x288 with 1 Axes>"
      ]
     },
     "metadata": {
      "needs_background": "light"
     },
     "output_type": "display_data"
    },
    {
     "data": {
      "text/plain": [
       "<Figure size 576x432 with 0 Axes>"
      ]
     },
     "metadata": {},
     "output_type": "display_data"
    }
   ],
   "source": [
    "# Side by side histograms for High EPA GHG Scores and Low EPA GHG Scores\n",
    "width = 0.45\n",
    "thinkplot.PrePlot(2)\n",
    "thinkplot.Hist(highs_ghgScore_hist, align = 'right', width = width)\n",
    "thinkplot.Hist(lows_ghgScore_hist, align = 'left', width = width)\n",
    "thinkplot.Show(xlabel = 'GHG Score', ylabel = 'Frequency')"
   ]
  },
  {
   "cell_type": "code",
   "execution_count": 46,
   "id": "391c5434",
   "metadata": {},
   "outputs": [],
   "source": [
    "# Create PMFs for GHG Scores\n",
    "GHG_highs_pmf = thinkstats2.Pmf(highs.ghgScore, label = 'High EPA Scores')\n",
    "GHG_lows_pmf = thinkstats2.Pmf(lows.ghgScore, label = 'Low EPA Scores')"
   ]
  },
  {
   "cell_type": "code",
   "execution_count": 47,
   "id": "792b05c8",
   "metadata": {},
   "outputs": [
    {
     "data": {
      "image/png": "[encoded data removed]",
      "text/plain": [
       "<Figure size 864x432 with 1 Axes>"
      ]
     },
     "metadata": {
      "needs_background": "light"
     },
     "output_type": "display_data"
    }
   ],
   "source": [
    "# Side by side PMFs for GHG Scores\n",
    "thinkplot.PrePlot(2, cols = 2)\n",
    "thinkplot.Hist(GHG_highs_pmf, align = 'right', width = width)\n",
    "thinkplot.Hist(GHG_lows_pmf, align = 'left', width = width)\n",
    "thinkplot.Config(xlabel = 'GHG Score', ylabel = 'Probability')"
   ]
  },
  {
   "cell_type": "code",
   "execution_count": 48,
   "id": "745a2805",
   "metadata": {},
   "outputs": [
    {
     "data": {
      "image/png": "[encoded data removed]",
      "text/plain": [
       "<Figure size 432x288 with 1 Axes>"
      ]
     },
     "metadata": {
      "needs_background": "light"
     },
     "output_type": "display_data"
    },
    {
     "data": {
      "text/plain": [
       "<Figure size 576x432 with 0 Axes>"
      ]
     },
     "metadata": {},
     "output_type": "display_data"
    }
   ],
   "source": [
    "# Another visual method for side by side PMFs\n",
    "thinkplot.PrePlot(2)\n",
    "thinkplot.SubPlot(2)\n",
    "thinkplot.Pmfs([GHG_highs_pmf, GHG_lows_pmf])\n",
    "thinkplot.Show(xlabel = 'GHG Score')"
   ]
  },
  {
   "cell_type": "code",
   "execution_count": null,
   "id": "2da41119",
   "metadata": {},
   "outputs": [],
   "source": []
  },
  {
   "cell_type": "code",
   "execution_count": null,
   "id": "30e448c3",
   "metadata": {},
   "outputs": [],
   "source": []
  },
  {
   "cell_type": "markdown",
   "id": "54417161",
   "metadata": {},
   "source": [
    "## CDFs"
   ]
  },
  {
   "cell_type": "markdown",
   "id": "6bc37198",
   "metadata": {},
   "source": [
    "CDFs (or Cumulative Distribution Functions) show us the values mapped to a percentile rank. Let's compare CDFs of GHG scores divided by EPA Smog Scores."
   ]
  },
  {
   "cell_type": "code",
   "execution_count": 60,
   "id": "d6c0e973",
   "metadata": {},
   "outputs": [
    {
     "data": {
      "image/png": "[encoded data removed]",
      "text/plain": [
       "<Figure size 432x288 with 1 Axes>"
      ]
     },
     "metadata": {
      "needs_background": "light"
     },
     "output_type": "display_data"
    },
    {
     "data": {
      "text/plain": [
       "<Figure size 576x432 with 0 Axes>"
      ]
     },
     "metadata": {},
     "output_type": "display_data"
    }
   ],
   "source": [
    "# Creates two CDFs for GHG scores, one for records with high EPA scores and one for records with low EPA scores\n",
    "GHG_highs_cdf = thinkstats2.Cdf(highs.ghgScore, label = 'High EPA Scores')\n",
    "GHG_lows_cdf = thinkstats2.Cdf(lows.ghgScore, label = 'Low EPA Scores')\n",
    "thinkplot.PrePlot(2)\n",
    "thinkplot.Cdfs([GHG_highs_cdf, GHG_lows_cdf])\n",
    "thinkplot.Show(xlabel = 'GHG Score', ylable = 'CDF')"
   ]
  },
  {
   "cell_type": "markdown",
   "id": "829c0075",
   "metadata": {},
   "source": [
    "This shows us that the distributions for high EPA smog scores tend to have very few GHG scores at or below 4, and many scores above 6. The reverse is true for low EPA smog scores."
   ]
  },
  {
   "cell_type": "markdown",
   "id": "86d0571a",
   "metadata": {},
   "source": [
    "## Analytical Distribution"
   ]
  },
  {
   "cell_type": "markdown",
   "id": "92a32ea9",
   "metadata": {},
   "source": [
    "Next, let's plot the complementary CDF (CCDF) for the high EPA smog score GHG scores."
   ]
  },
  {
   "cell_type": "code",
   "execution_count": 62,
   "id": "cedbc322",
   "metadata": {},
   "outputs": [
    {
     "data": {
      "image/png": "[encoded data removed]",
      "text/plain": [
       "<Figure size 432x288 with 1 Axes>"
      ]
     },
     "metadata": {
      "needs_background": "light"
     },
     "output_type": "display_data"
    }
   ],
   "source": [
    "# Plot CCDF for GHG_highs_cdf\n",
    "thinkplot.Cdf(GHG_highs_cdf, complement=True)\n",
    "thinkplot.Config(\n",
    "    xlabel = 'GHG Score',\n",
    "    ylabel=\"CCDF\",\n",
    "    yscale=\"log\",\n",
    "    loc=\"upper right\",)"
   ]
  },
  {
   "cell_type": "markdown",
   "id": "15ec1959",
   "metadata": {},
   "source": [
    "A straight line would indicate exponential distribution. We do not have exponential distribution here."
   ]
  },
  {
   "cell_type": "code",
   "execution_count": 71,
   "id": "39e5257b",
   "metadata": {},
   "outputs": [],
   "source": [
    "GHG_scores_high = highs.ghgScore.dropna()"
   ]
  },
  {
   "cell_type": "code",
   "execution_count": 73,
   "id": "9304b44e",
   "metadata": {},
   "outputs": [
    {
     "data": {
      "image/png": "[encoded data removed]",
      "text/plain": [
       "<Figure size 432x288 with 1 Axes>"
      ]
     },
     "metadata": {
      "needs_background": "light"
     },
     "output_type": "display_data"
    }
   ],
   "source": [
    "mean, var = thinkstats2.TrimmedMeanVar(GHG_scores_high, p=0.01)\n",
    "std = np.sqrt(var)\n",
    "\n",
    "xs = [-4, 4]\n",
    "fxs, fys = thinkstats2.FitLine(xs, mean, std)\n",
    "thinkplot.Plot(fxs, fys, linewidth=4, color=\"0.8\")\n",
    "\n",
    "xs, ys = thinkstats2.NormalProbability(GHG_scores_high)\n",
    "thinkplot.Plot(xs, ys, label=\"all live\")\n",
    "\n",
    "thinkplot.Config(\n",
    "    title=\"Normal probability plot\",\n",
    "    xlabel=\"Standard deviations from mean\",\n",
    "    ylabel=\"GHG Scores\",\n",
    ")"
   ]
  },
  {
   "cell_type": "code",
   "execution_count": null,
   "id": "338aa23f",
   "metadata": {},
   "outputs": [],
   "source": []
  },
  {
   "cell_type": "markdown",
   "id": "349fee51",
   "metadata": {},
   "source": [
    "## Scatterplots"
   ]
  },
  {
   "cell_type": "markdown",
   "id": "2b3f2e08",
   "metadata": {},
   "source": [
    "Let's see what a scatter plot of greenhouse gas and epa smog scores looks like, to get a sense for whether there is a correlation between the two."
   ]
  },
  {
   "cell_type": "code",
   "execution_count": 81,
   "id": "884a0180",
   "metadata": {},
   "outputs": [
    {
     "data": {
      "image/png": "[encoded data removed]",
      "text/plain": [
       "<Figure size 432x288 with 1 Axes>"
      ]
     },
     "metadata": {
      "needs_background": "light"
     },
     "output_type": "display_data"
    }
   ],
   "source": [
    "#A scatterplot of GHG scores and EPA Smog scores\n",
    "GHG_scores = vehicle_emissions_df.ghgScore\n",
    "EPA_scores = vehicle_emissions_df.score\n",
    "thinkplot.Scatter(GHG_scores, EPA_scores, alpha = 0.1, s = 10)\n",
    "thinkplot.Config(xlabel = 'GHG Scores', ylabel = 'EPA Scores',\n",
    "                axis = [0, 15, 0, 15],\n",
    "                legend = False)"
   ]
  },
  {
   "cell_type": "markdown",
   "id": "d03c7b8e",
   "metadata": {},
   "source": [
    "It seems like there is a very slight positive correlation between these two variables, but the fact that it isn't very strong is mildly surprising."
   ]
  },
  {
   "cell_type": "markdown",
   "id": "99172c96",
   "metadata": {},
   "source": [
    "Let's also check and see what the relationship between mpg and model year looks like."
   ]
  },
  {
   "cell_type": "code",
   "execution_count": 80,
   "id": "ed0d67a6",
   "metadata": {},
   "outputs": [
    {
     "data": {
      "image/png": "[encoded data removed]",
      "text/plain": [
       "<Figure size 432x288 with 1 Axes>"
      ]
     },
     "metadata": {
      "needs_background": "light"
     },
     "output_type": "display_data"
    }
   ],
   "source": [
    "# A scatterplot for model year and city miles per gallon\n",
    "thinkplot.Scatter(city_miles_1, model_year, alpha = 0.1, s = 10)\n",
    "thinkplot.Config(xlabel = 'City MPG',\n",
    "                ylabel = 'Model Year',\n",
    "                axis = [0, 60, 2007, 2025],\n",
    "                legend = False)"
   ]
  },
  {
   "cell_type": "markdown",
   "id": "13aa7499",
   "metadata": {},
   "source": [
    "This is very interesting - we can see clearly if we look at the right side of the graph that there are more efficient cars as the years go on, BUT we continue making inefficient cars at as fast a rate as we used to (see the darker sections)."
   ]
  },
  {
   "cell_type": "markdown",
   "id": "48a7af32",
   "metadata": {},
   "source": [
    "Lastly, let's see if there is a relationship between City MPG and Highway MPG."
   ]
  },
  {
   "cell_type": "code",
   "execution_count": 82,
   "id": "2275896d",
   "metadata": {},
   "outputs": [
    {
     "data": {
      "image/png": "[encoded data removed]",
      "text/plain": [
       "<Figure size 432x288 with 1 Axes>"
      ]
     },
     "metadata": {
      "needs_background": "light"
     },
     "output_type": "display_data"
    }
   ],
   "source": [
    "# A scatterplot of city mpg and hwy mpg\n",
    "thinkplot.Scatter(city_miles_1, hwy_miles_1, alpha=0.1, s=10)\n",
    "thinkplot.Config(xlabel='City Miles',\n",
    "                 ylabel='Hwy Miles',\n",
    "                 axis=[0, 60, 0, 60],\n",
    "                 legend=False)"
   ]
  },
  {
   "cell_type": "markdown",
   "id": "1e0dd18d",
   "metadata": {},
   "source": [
    "Here we see what is most likely a strong positive correlation between City MPG and Highway MPG. As cars get more miles to the gallon in the city, they get more miles to the gallon on the highway. It's interesting how the slope seems to decrease once 30 City MPG is surpassed. "
   ]
  },
  {
   "cell_type": "code",
   "execution_count": null,
   "id": "81a2f8d1",
   "metadata": {},
   "outputs": [],
   "source": []
  },
  {
   "cell_type": "markdown",
   "id": "17e9bd04",
   "metadata": {},
   "source": [
    "## Correlation Test"
   ]
  },
  {
   "cell_type": "markdown",
   "id": "a95ab83b",
   "metadata": {},
   "source": [
    "Let's test to see if there is a correlation between GHG scores and EPA smog scores."
   ]
  },
  {
   "cell_type": "code",
   "execution_count": 88,
   "id": "40ed2f31",
   "metadata": {},
   "outputs": [
    {
     "data": {
      "text/plain": [
       "0.0"
      ]
     },
     "execution_count": 88,
     "metadata": {},
     "output_type": "execute_result"
    }
   ],
   "source": [
    "cleaned_vehicle_emissions_df = vehicle_emissions_df.dropna(subset=['ghgScore', 'score'])\n",
    "data = cleaned_vehicle_emissions_df.ghgScore.values, cleaned_vehicle_emissions_df.score.values\n",
    "ht = CorrelationPermute(data)\n",
    "pvalue = ht.PValue()\n",
    "pvalue"
   ]
  },
  {
   "cell_type": "markdown",
   "id": "73cb6839",
   "metadata": {},
   "source": [
    "A p-value of 0.0 indicates that there is no statistically significant relationship between greenhouse gas scores and epa smog scores. This was surprising because one would assume that a vehicle with a positive (high) scores for ghg scores would have positive (high) epa smog scores, since they are both essentially measuring the enivornmental-friendliness of a vehicle."
   ]
  },
  {
   "cell_type": "markdown",
   "id": "f1cdc7ff",
   "metadata": {},
   "source": [
    "## Regression Test"
   ]
  },
  {
   "cell_type": "code",
   "execution_count": 93,
   "id": "fbcce7ab",
   "metadata": {
    "scrolled": false
   },
   "outputs": [
    {
     "data": {
      "text/html": [
       "<table class=\"simpletable\">\n",
       "<caption>OLS Regression Results</caption>\n",
       "<tr>\n",
       "  <th>Dep. Variable:</th>        <td>ghgScore</td>     <th>  R-squared:         </th> <td>   0.280</td> \n",
       "</tr>\n",
       "<tr>\n",
       "  <th>Model:</th>                   <td>OLS</td>       <th>  Adj. R-squared:    </th> <td>   0.280</td> \n",
       "</tr>\n",
       "<tr>\n",
       "  <th>Method:</th>             <td>Least Squares</td>  <th>  F-statistic:       </th> <td>1.019e+04</td>\n",
       "</tr>\n",
       "<tr>\n",
       "  <th>Date:</th>             <td>Sat, 04 Jun 2022</td> <th>  Prob (F-statistic):</th>  <td>  0.00</td>  \n",
       "</tr>\n",
       "<tr>\n",
       "  <th>Time:</th>                 <td>20:44:16</td>     <th>  Log-Likelihood:    </th> <td> -50621.</td> \n",
       "</tr>\n",
       "<tr>\n",
       "  <th>No. Observations:</th>      <td> 26225</td>      <th>  AIC:               </th> <td>1.012e+05</td>\n",
       "</tr>\n",
       "<tr>\n",
       "  <th>Df Residuals:</th>          <td> 26223</td>      <th>  BIC:               </th> <td>1.013e+05</td>\n",
       "</tr>\n",
       "<tr>\n",
       "  <th>Df Model:</th>              <td>     1</td>      <th>                     </th>     <td> </td>    \n",
       "</tr>\n",
       "<tr>\n",
       "  <th>Covariance Type:</th>      <td>nonrobust</td>    <th>                     </th>     <td> </td>    \n",
       "</tr>\n",
       "</table>\n",
       "<table class=\"simpletable\">\n",
       "<tr>\n",
       "      <td></td>         <th>coef</th>     <th>std err</th>      <th>t</th>      <th>P>|t|</th>  <th>[0.025</th>    <th>0.975]</th>  \n",
       "</tr>\n",
       "<tr>\n",
       "  <th>Intercept</th> <td>    1.9882</td> <td>    0.033</td> <td>   60.780</td> <td> 0.000</td> <td>    1.924</td> <td>    2.052</td>\n",
       "</tr>\n",
       "<tr>\n",
       "  <th>score</th>     <td>    0.5871</td> <td>    0.006</td> <td>  100.936</td> <td> 0.000</td> <td>    0.576</td> <td>    0.598</td>\n",
       "</tr>\n",
       "</table>\n",
       "<table class=\"simpletable\">\n",
       "<tr>\n",
       "  <th>Omnibus:</th>       <td>395.713</td> <th>  Durbin-Watson:     </th> <td>   0.518</td>\n",
       "</tr>\n",
       "<tr>\n",
       "  <th>Prob(Omnibus):</th> <td> 0.000</td>  <th>  Jarque-Bera (JB):  </th> <td> 413.677</td>\n",
       "</tr>\n",
       "<tr>\n",
       "  <th>Skew:</th>          <td> 0.307</td>  <th>  Prob(JB):          </th> <td>1.48e-90</td>\n",
       "</tr>\n",
       "<tr>\n",
       "  <th>Kurtosis:</th>      <td> 2.981</td>  <th>  Cond. No.          </th> <td>    18.4</td>\n",
       "</tr>\n",
       "</table><br/><br/>Notes:<br/>[1] Standard Errors assume that the covariance matrix of the errors is correctly specified."
      ],
      "text/plain": [
       "<class 'statsmodels.iolib.summary.Summary'>\n",
       "\"\"\"\n",
       "                            OLS Regression Results                            \n",
       "==============================================================================\n",
       "Dep. Variable:               ghgScore   R-squared:                       0.280\n",
       "Model:                            OLS   Adj. R-squared:                  0.280\n",
       "Method:                 Least Squares   F-statistic:                 1.019e+04\n",
       "Date:                Sat, 04 Jun 2022   Prob (F-statistic):               0.00\n",
       "Time:                        20:44:16   Log-Likelihood:                -50621.\n",
       "No. Observations:               26225   AIC:                         1.012e+05\n",
       "Df Residuals:                   26223   BIC:                         1.013e+05\n",
       "Df Model:                           1                                         \n",
       "Covariance Type:            nonrobust                                         \n",
       "==============================================================================\n",
       "                 coef    std err          t      P>|t|      [0.025      0.975]\n",
       "------------------------------------------------------------------------------\n",
       "Intercept      1.9882      0.033     60.780      0.000       1.924       2.052\n",
       "score          0.5871      0.006    100.936      0.000       0.576       0.598\n",
       "==============================================================================\n",
       "Omnibus:                      395.713   Durbin-Watson:                   0.518\n",
       "Prob(Omnibus):                  0.000   Jarque-Bera (JB):              413.677\n",
       "Skew:                           0.307   Prob(JB):                     1.48e-90\n",
       "Kurtosis:                       2.981   Cond. No.                         18.4\n",
       "==============================================================================\n",
       "\n",
       "Notes:\n",
       "[1] Standard Errors assume that the covariance matrix of the errors is correctly specified.\n",
       "\"\"\""
      ]
     },
     "execution_count": 93,
     "metadata": {},
     "output_type": "execute_result"
    }
   ],
   "source": [
    "import statsmodels.formula.api as smf\n",
    "\n",
    "formula = 'ghgScore ~ score'\n",
    "model = smf.ols(formula, data = vehicle_emissions_df)\n",
    "results = model.fit()\n",
    "results.summary()"
   ]
  },
  {
   "cell_type": "code",
   "execution_count": null,
   "id": "58912b2c",
   "metadata": {},
   "outputs": [],
   "source": []
  },
  {
   "cell_type": "code",
   "execution_count": null,
   "id": "3d9aecc0",
   "metadata": {},
   "outputs": [],
   "source": []
  },
  {
   "cell_type": "code",
   "execution_count": null,
   "id": "65a4c814",
   "metadata": {},
   "outputs": [],
   "source": []
  },
  {
   "cell_type": "code",
   "execution_count": null,
   "id": "e3859acd",
   "metadata": {},
   "outputs": [],
   "source": []
  },
  {
   "cell_type": "code",
   "execution_count": null,
   "id": "fcea7b68",
   "metadata": {},
   "outputs": [],
   "source": []
  },
  {
   "cell_type": "code",
   "execution_count": null,
   "id": "df3cbd4e",
   "metadata": {},
   "outputs": [],
   "source": []
  }
 ],
 "metadata": {
  "kernelspec": {
   "display_name": "Python 3 (ipykernel)",
   "language": "python",
   "name": "python3"
  },
  "language_info": {
   "codemirror_mode": {
    "name": "ipython",
    "version": 3
   },
   "file_extension": ".py",
   "mimetype": "text/x-python",
   "name": "python",
   "nbconvert_exporter": "python",
   "pygments_lexer": "ipython3",
   "version": "3.9.7"
  }
 },
 "nbformat": 4,
 "nbformat_minor": 5
}
